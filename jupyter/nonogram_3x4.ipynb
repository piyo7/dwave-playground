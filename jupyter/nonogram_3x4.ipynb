{
 "cells": [
  {
   "cell_type": "markdown",
   "metadata": {},
   "source": [
    "| 　 | 1 | 1, 1 | 1 | 2 |\n",
    "| :--- | --- | --- | --- | --- |\n",
    "| **2** | 　 | ■ | ■ | 　 |\n",
    "| **1, 1** | ■ | 　 | 　 | ■ |\n",
    "| **1, 1** | 　 | ■ | 　 | ■ |"
   ]
  },
  {
   "cell_type": "code",
   "execution_count": 1,
   "metadata": {},
   "outputs": [],
   "source": [
    "def len_lines(qs):\n",
    "    cont = False\n",
    "    result = []\n",
    "    for q in qs:\n",
    "        if q == 0:\n",
    "            cont = False\n",
    "        else:\n",
    "            if cont:\n",
    "                result[-1] += 1\n",
    "            else:\n",
    "                result.append(1)\n",
    "            cont = True\n",
    "    return result"
   ]
  },
  {
   "cell_type": "code",
   "execution_count": 2,
   "metadata": {},
   "outputs": [
    {
     "data": {
      "text/plain": [
       "BinaryQuadraticModel({'q00': 0.0, 'q01': -4.0, 'q02': -2.0, 'q03': -2.0, 'q10': -4.0, 'q11': 0.0, 'q12': -2.0, 'q13': -4.0, 'q20': -4.0, 'q21': -4.0, 'q22': -2.0, 'q23': -4.0}, {('q01', 'q00'): -4.0, ('q02', 'q00'): 4.0, ('q02', 'q01'): -2.0, ('q03', 'q00'): -2.0, ('q03', 'q01'): 4.0, ('q03', 'q02'): -2.0, ('q11', 'q10'): 4.0, ('q12', 'q10'): -2.0, ('q12', 'q11'): -2.0, ('q13', 'q10'): 0.0, ('q13', 'q11'): -2.0, ('q13', 'q12'): 4.0, ('q21', 'q20'): 4.0, ('q22', 'q20'): -2.0, ('q22', 'q21'): -2.0, ('q23', 'q20'): 0.0, ('q23', 'q21'): -2.0, ('q23', 'q22'): 4.0, ('q10', 'q00'): 4.0, ('q20', 'q00'): 4.0, ('q20', 'q10'): 4.0, ('q11', 'q01'): 4.0, ('q21', 'q01'): -4.0, ('q21', 'q11'): 4.0, ('q12', 'q02'): 4.0, ('q22', 'q02'): 4.0, ('q22', 'q12'): 4.0, ('q13', 'q03'): 0.0, ('q23', 'q03'): 4.0, ('q23', 'q13'): 0.0}, 7.5, Vartype.BINARY)"
      ]
     },
     "execution_count": 2,
     "metadata": {},
     "output_type": "execute_result"
    }
   ],
   "source": [
    "import dwavebinarycsp as dbc\n",
    "\n",
    "row_constraints = [[2], [1, 1], [1, 1]]\n",
    "col_constraints = [[1], [1, 1], [1], [2]]\n",
    "\n",
    "csp = dbc.ConstraintSatisfactionProblem(dbc.BINARY)\n",
    "for i, lengths in enumerate(row_constraints):\n",
    "    csp.add_constraint(lambda *qs, lengths=lengths: len_lines(qs) == lengths, [f'q{i}{j}' for j in range(len(col_constraints))])\n",
    "for j, lengths in enumerate(col_constraints):\n",
    "    csp.add_constraint(lambda *qs, lengths=lengths: len_lines(qs) == lengths, [f'q{i}{j}' for i in range(len(row_constraints))])\n",
    "\n",
    "bqm = dbc.stitch(csp)\n",
    "bqm"
   ]
  },
  {
   "cell_type": "code",
   "execution_count": 3,
   "metadata": {},
   "outputs": [
    {
     "data": {
      "text/latex": [
       "$$- 4.0 q_{00} q_{01} + 4.0 q_{00} q_{02} - 2.0 q_{00} q_{03} + 4.0 q_{00} q_{10} + 4.0 q_{00} q_{20} - 2.0 q_{01} q_{02} + 4.0 q_{01} q_{03} + 4.0 q_{01} q_{11} - 4.0 q_{01} q_{21} - 4.0 q_{01} - 2.0 q_{02} q_{03} + 4.0 q_{02} q_{12} + 4.0 q_{02} q_{22} - 2.0 q_{02} + 4.0 q_{03} q_{23} - 2.0 q_{03} + 4.0 q_{10} q_{11} - 2.0 q_{10} q_{12} + 4.0 q_{10} q_{20} - 4.0 q_{10} - 2.0 q_{11} q_{12} - 2.0 q_{11} q_{13} + 4.0 q_{11} q_{21} + 4.0 q_{12} q_{13} + 4.0 q_{12} q_{22} - 2.0 q_{12} - 4.0 q_{13} + 4.0 q_{20} q_{21} - 2.0 q_{20} q_{22} - 4.0 q_{20} - 2.0 q_{21} q_{22} - 2.0 q_{21} q_{23} - 4.0 q_{21} + 4.0 q_{22} q_{23} - 2.0 q_{22} - 4.0 q_{23} + 7.5$$"
      ],
      "text/plain": [
       "-4.0⋅q₀₀⋅q₀₁ + 4.0⋅q₀₀⋅q₀₂ - 2.0⋅q₀₀⋅q₀₃ + 4.0⋅q₀₀⋅q₁₀ + 4.0⋅q₀₀⋅q₂₀ - 2.0⋅q₀₁\n",
       "⋅q₀₂ + 4.0⋅q₀₁⋅q₀₃ + 4.0⋅q₀₁⋅q₁₁ - 4.0⋅q₀₁⋅q₂₁ - 4.0⋅q₀₁ - 2.0⋅q₀₂⋅q₀₃ + 4.0⋅q\n",
       "₀₂⋅q₁₂ + 4.0⋅q₀₂⋅q₂₂ - 2.0⋅q₀₂ + 4.0⋅q₀₃⋅q₂₃ - 2.0⋅q₀₃ + 4.0⋅q₁₀⋅q₁₁ - 2.0⋅q₁₀\n",
       "⋅q₁₂ + 4.0⋅q₁₀⋅q₂₀ - 4.0⋅q₁₀ - 2.0⋅q₁₁⋅q₁₂ - 2.0⋅q₁₁⋅q₁₃ + 4.0⋅q₁₁⋅q₂₁ + 4.0⋅q\n",
       "₁₂⋅q₁₃ + 4.0⋅q₁₂⋅q₂₂ - 2.0⋅q₁₂ - 4.0⋅q₁₃ + 4.0⋅q₂₀⋅q₂₁ - 2.0⋅q₂₀⋅q₂₂ - 4.0⋅q₂₀\n",
       " - 2.0⋅q₂₁⋅q₂₂ - 2.0⋅q₂₁⋅q₂₃ - 4.0⋅q₂₁ + 4.0⋅q₂₂⋅q₂₃ - 2.0⋅q₂₂ - 4.0⋅q₂₃ + 7.5"
      ]
     },
     "execution_count": 3,
     "metadata": {},
     "output_type": "execute_result"
    }
   ],
   "source": [
    "import sympy\n",
    "\n",
    "expr = bqm.offset\n",
    "for symb, coef in bqm.linear.items():\n",
    "    expr += sympy.symbols(symb) * coef\n",
    "for (symb1, symb2), coef in bqm.quadratic.items():\n",
    "    expr += sympy.symbols(symb1) * sympy.symbols(symb2) * coef\n",
    "\n",
    "sympy.init_printing()\n",
    "expr"
   ]
  },
  {
   "cell_type": "code",
   "execution_count": 4,
   "metadata": {},
   "outputs": [],
   "source": [
    "from dwave.system.samplers import DWaveSampler\n",
    "from dwave.system.composites import EmbeddingComposite\n",
    "\n",
    "sampler = EmbeddingComposite(DWaveSampler())\n",
    "response = sampler.sample(bqm, num_reads=100)"
   ]
  },
  {
   "cell_type": "code",
   "execution_count": 6,
   "metadata": {},
   "outputs": [
    {
     "data": {
      "text/html": [
       "<div>\n",
       "<style scoped>\n",
       "    .dataframe tbody tr th:only-of-type {\n",
       "        vertical-align: middle;\n",
       "    }\n",
       "\n",
       "    .dataframe tbody tr th {\n",
       "        vertical-align: top;\n",
       "    }\n",
       "\n",
       "    .dataframe thead th {\n",
       "        text-align: right;\n",
       "    }\n",
       "</style>\n",
       "<table border=\"1\" class=\"dataframe\">\n",
       "  <thead>\n",
       "    <tr style=\"text-align: right;\">\n",
       "      <th></th>\n",
       "      <th>chain</th>\n",
       "      <th>check</th>\n",
       "      <th>energy</th>\n",
       "      <th>occurr</th>\n",
       "      <th>q00</th>\n",
       "      <th>q01</th>\n",
       "      <th>q02</th>\n",
       "      <th>q03</th>\n",
       "      <th>q10</th>\n",
       "      <th>q11</th>\n",
       "      <th>q12</th>\n",
       "      <th>q13</th>\n",
       "      <th>q20</th>\n",
       "      <th>q21</th>\n",
       "      <th>q22</th>\n",
       "      <th>q23</th>\n",
       "    </tr>\n",
       "  </thead>\n",
       "  <tbody>\n",
       "    <tr>\n",
       "      <th>0</th>\n",
       "      <td>0.166667</td>\n",
       "      <td>True</td>\n",
       "      <td>-22.5</td>\n",
       "      <td>31</td>\n",
       "      <td>0</td>\n",
       "      <td>1</td>\n",
       "      <td>1</td>\n",
       "      <td>0</td>\n",
       "      <td>1</td>\n",
       "      <td>0</td>\n",
       "      <td>0</td>\n",
       "      <td>1</td>\n",
       "      <td>0</td>\n",
       "      <td>1</td>\n",
       "      <td>0</td>\n",
       "      <td>1</td>\n",
       "    </tr>\n",
       "    <tr>\n",
       "      <th>1</th>\n",
       "      <td>0.083333</td>\n",
       "      <td>True</td>\n",
       "      <td>-22.5</td>\n",
       "      <td>1</td>\n",
       "      <td>0</td>\n",
       "      <td>1</td>\n",
       "      <td>1</td>\n",
       "      <td>0</td>\n",
       "      <td>1</td>\n",
       "      <td>0</td>\n",
       "      <td>0</td>\n",
       "      <td>1</td>\n",
       "      <td>0</td>\n",
       "      <td>1</td>\n",
       "      <td>0</td>\n",
       "      <td>1</td>\n",
       "    </tr>\n",
       "    <tr>\n",
       "      <th>2</th>\n",
       "      <td>0.166667</td>\n",
       "      <td>False</td>\n",
       "      <td>-18.5</td>\n",
       "      <td>19</td>\n",
       "      <td>1</td>\n",
       "      <td>1</td>\n",
       "      <td>1</td>\n",
       "      <td>0</td>\n",
       "      <td>1</td>\n",
       "      <td>0</td>\n",
       "      <td>0</td>\n",
       "      <td>1</td>\n",
       "      <td>0</td>\n",
       "      <td>1</td>\n",
       "      <td>0</td>\n",
       "      <td>1</td>\n",
       "    </tr>\n",
       "    <tr>\n",
       "      <th>3</th>\n",
       "      <td>0.166667</td>\n",
       "      <td>False</td>\n",
       "      <td>-18.5</td>\n",
       "      <td>48</td>\n",
       "      <td>1</td>\n",
       "      <td>1</td>\n",
       "      <td>1</td>\n",
       "      <td>0</td>\n",
       "      <td>1</td>\n",
       "      <td>0</td>\n",
       "      <td>0</td>\n",
       "      <td>1</td>\n",
       "      <td>0</td>\n",
       "      <td>1</td>\n",
       "      <td>0</td>\n",
       "      <td>1</td>\n",
       "    </tr>\n",
       "    <tr>\n",
       "      <th>4</th>\n",
       "      <td>0.333333</td>\n",
       "      <td>False</td>\n",
       "      <td>-14.5</td>\n",
       "      <td>1</td>\n",
       "      <td>1</td>\n",
       "      <td>1</td>\n",
       "      <td>1</td>\n",
       "      <td>0</td>\n",
       "      <td>1</td>\n",
       "      <td>0</td>\n",
       "      <td>1</td>\n",
       "      <td>1</td>\n",
       "      <td>0</td>\n",
       "      <td>1</td>\n",
       "      <td>0</td>\n",
       "      <td>1</td>\n",
       "    </tr>\n",
       "  </tbody>\n",
       "</table>\n",
       "</div>"
      ],
      "text/plain": [
       "      chain  check  energy  occurr  q00  q01  q02  q03  q10  q11  q12  q13  \\\n",
       "0  0.166667   True   -22.5      31    0    1    1    0    1    0    0    1   \n",
       "1  0.083333   True   -22.5       1    0    1    1    0    1    0    0    1   \n",
       "2  0.166667  False   -18.5      19    1    1    1    0    1    0    0    1   \n",
       "3  0.166667  False   -18.5      48    1    1    1    0    1    0    0    1   \n",
       "4  0.333333  False   -14.5       1    1    1    1    0    1    0    1    1   \n",
       "\n",
       "   q20  q21  q22  q23  \n",
       "0    0    1    0    1  \n",
       "1    0    1    0    1  \n",
       "2    0    1    0    1  \n",
       "3    0    1    0    1  \n",
       "4    0    1    0    1  "
      ]
     },
     "execution_count": 6,
     "metadata": {},
     "output_type": "execute_result"
    }
   ],
   "source": [
    "import pandas as pd\n",
    "\n",
    "pd.DataFrame([{'check': csp.check(sample), 'energy': energy, 'occurr': num_occurrences, 'chain': chain_break_fraction, **sample} for sample, energy, num_occurrences, chain_break_fraction in response.data()])"
   ]
  },
  {
   "cell_type": "code",
   "execution_count": 7,
   "metadata": {},
   "outputs": [
    {
     "data": {
      "text/plain": [
       "{'total_real_time': 24086,\n",
       " 'qpu_access_overhead_time': 721,\n",
       " 'anneal_time_per_run': 20,\n",
       " 'post_processing_overhead_time': 2119,\n",
       " 'qpu_sampling_time': 16396,\n",
       " 'readout_time_per_run': 123,\n",
       " 'qpu_delay_time_per_sample': 21,\n",
       " 'qpu_anneal_time_per_sample': 20,\n",
       " 'total_post_processing_time': 2119,\n",
       " 'qpu_programming_time': 7690,\n",
       " 'run_time_chip': 16396,\n",
       " 'qpu_access_time': 24086,\n",
       " 'qpu_readout_time_per_sample': 123}"
      ]
     },
     "execution_count": 7,
     "metadata": {},
     "output_type": "execute_result"
    }
   ],
   "source": [
    "response.info['timing']"
   ]
  },
  {
   "cell_type": "code",
   "execution_count": 8,
   "metadata": {},
   "outputs": [
    {
     "data": {
      "text/plain": [
       "'DW_2000Q_2_1'"
      ]
     },
     "execution_count": 8,
     "metadata": {},
     "output_type": "execute_result"
    }
   ],
   "source": [
    "sampler.properties['child_properties']['chip_id']"
   ]
  },
  {
   "cell_type": "code",
   "execution_count": 9,
   "metadata": {},
   "outputs": [
    {
     "name": "stdout",
     "output_type": "stream",
     "text": [
      "dwave-cloud-client     0.4.16    \n",
      "dwave-neal             0.4.2     \n",
      "dwave-networkx         0.6.6     \n",
      "dwave-ocean-sdk        1.0.3     \n",
      "dwave-qbsolv           0.2.9     \n",
      "dwave-system           0.5.4     \n",
      "dwavebinarycsp         0.0.9     \n"
     ]
    }
   ],
   "source": [
    "!pip list | grep dwave"
   ]
  }
 ],
 "metadata": {
  "kernelspec": {
   "display_name": "Python 3",
   "language": "python",
   "name": "python3"
  },
  "language_info": {
   "codemirror_mode": {
    "name": "ipython",
    "version": 3
   },
   "file_extension": ".py",
   "mimetype": "text/x-python",
   "name": "python",
   "nbconvert_exporter": "python",
   "pygments_lexer": "ipython3",
   "version": "3.7.0"
  }
 },
 "nbformat": 4,
 "nbformat_minor": 2
}
