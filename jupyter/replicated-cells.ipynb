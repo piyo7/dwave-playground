{
 "cells": [
  {
   "cell_type": "code",
   "execution_count": 1,
   "metadata": {},
   "outputs": [],
   "source": [
    "from dwave.system.samplers import DWaveSampler\n",
    "from itertools import groupby, product\n",
    "import math\n",
    "import random"
   ]
  },
  {
   "cell_type": "code",
   "execution_count": 2,
   "metadata": {},
   "outputs": [
    {
     "data": {
      "text/plain": [
       "([-2.0, 2.0], [-1.0, 1.0])"
      ]
     },
     "execution_count": 2,
     "metadata": {},
     "output_type": "execute_result"
    }
   ],
   "source": [
    "sampler = DWaveSampler()\n",
    "couplers = set([tuple(coupler) for coupler in sampler.properties['couplers']])\n",
    "H_range = sampler.properties['h_range']\n",
    "J_range = sampler.properties['j_range']\n",
    "H_range, J_range"
   ]
  },
  {
   "cell_type": "code",
   "execution_count": 19,
   "metadata": {},
   "outputs": [
    {
     "data": {
      "text/plain": [
       "({0: 0.08370421937327488,\n",
       "  1: -0.4262382159509144,\n",
       "  2: -0.8442658033776838,\n",
       "  3: 0.8529403860828175,\n",
       "  4: -0.4582872907843023,\n",
       "  5: 0.9397036067742746,\n",
       "  6: 0.45201076240423466,\n",
       "  7: -0.21887130414000278},\n",
       " {(0, 4): -0.6484448705158581,\n",
       "  (0, 5): 0.8495677682108309,\n",
       "  (0, 6): 0.0814170700363055,\n",
       "  (0, 7): -0.8826579310529952,\n",
       "  (1, 4): 0.02360829850414259,\n",
       "  (1, 5): 0.5835720017483192,\n",
       "  (1, 6): -0.12307374659144665,\n",
       "  (1, 7): 0.5263749028358928,\n",
       "  (2, 4): -0.5550887576431878,\n",
       "  (2, 5): 0.12720833356641892,\n",
       "  (2, 6): 0.9017010972965778,\n",
       "  (2, 7): 0.4040579195696532,\n",
       "  (3, 4): -0.9524824027242849,\n",
       "  (3, 5): -0.17834159922350623,\n",
       "  (3, 6): -0.6865360428305183,\n",
       "  (3, 7): -0.10872830759878704})"
      ]
     },
     "execution_count": 19,
     "metadata": {},
     "output_type": "execute_result"
    }
   ],
   "source": [
    "cell_couplers = [(i, j) for i, j in product(range(0, 4), range(4, 8))]\n",
    "cell_H = dict((i, random.uniform(H_range[0], H_range[1]) / 2) for i in range(8))\n",
    "cell_J = dict(((i, j), random.uniform(J_range[0], J_range[1])) for i, j in cell_couplers)\n",
    "cell_H, cell_J"
   ]
  },
  {
   "cell_type": "code",
   "execution_count": 20,
   "metadata": {},
   "outputs": [
    {
     "data": {
      "text/plain": [
       "244"
      ]
     },
     "execution_count": 20,
     "metadata": {},
     "output_type": "execute_result"
    }
   ],
   "source": [
    "active_cells = list(filter(lambda c: set([(i + 8 * c, j + 8 * c) for i, j in cell_couplers]).issubset(couplers), range(256)))\n",
    "len(active_cells)"
   ]
  },
  {
   "cell_type": "code",
   "execution_count": 21,
   "metadata": {},
   "outputs": [
    {
     "data": {
      "text/plain": [
       "(1952, 3904)"
      ]
     },
     "execution_count": 21,
     "metadata": {},
     "output_type": "execute_result"
    }
   ],
   "source": [
    "H = dict((i + 8 * c, v) for i, v in cell_H.items() for c in active_cells)\n",
    "J = dict(((i + 8 * c, j + 8 * c), v) for (i, j), v in cell_J.items() for c in active_cells)\n",
    "len(H), len(J)"
   ]
  },
  {
   "cell_type": "code",
   "execution_count": 22,
   "metadata": {},
   "outputs": [],
   "source": [
    "def energy(spins):\n",
    "    return sum([v * spins[i] for i, v in cell_H.items()] + [v * spins[i] * spins[j] for (i, j), v in cell_J.items()])"
   ]
  },
  {
   "cell_type": "code",
   "execution_count": 26,
   "metadata": {},
   "outputs": [],
   "source": [
    "response = sampler.sample_ising(H, J, num_reads=100, answer_mode='raw', auto_scale=False)"
   ]
  },
  {
   "cell_type": "code",
   "execution_count": 30,
   "metadata": {},
   "outputs": [
    {
     "name": "stdout",
     "output_type": "stream",
     "text": [
      "24400\n"
     ]
    },
    {
     "data": {
      "text/plain": [
       "[((1, 1, 1, -1, 1, -1, -1, 1), 0.6146721311475409, -7.464823044441264),\n",
       " ((1, 1, 1, -1, 1, -1, -1, -1), 0.15811475409836065, -7.340086834063936),\n",
       " ((-1, 1, 1, -1, -1, -1, -1, -1), 0.2265983606557377, -7.3362707640240785),\n",
       " ((1, -1, 1, -1, 1, -1, -1, 1), 0.0004098360655737705, -6.791316504905762),\n",
       " ((1, 1, 1, -1, -1, -1, -1, 1), 0.00012295081967213115, -6.093362609011422),\n",
       " ((-1, 1, 1, -1, -1, 1, -1, -1), 8.19672131147541e-05, -5.377755217820702)]"
      ]
     },
     "execution_count": 30,
     "metadata": {},
     "output_type": "execute_result"
    }
   ],
   "source": [
    "res_hist = [(spins, sum(1 for _ in group), energy(spins)) for spins, group in\n",
    " groupby(sorted(tuple([sample[i + 8 * c] for i in range(8)]) for c in active_cells for sample, _, _ in response.data()))]\n",
    "num_sum = sum(num for _, num, _ in res_hist)\n",
    "res_normed_hist = [(spins, num / num_sum, energy) for spins, num, energy in res_hist]\n",
    "\n",
    "print(num_sum)\n",
    "list(sorted(res_normed_hist, key=lambda x: x[2]))"
   ]
  },
  {
   "cell_type": "code",
   "execution_count": 32,
   "metadata": {},
   "outputs": [
    {
     "data": {
      "text/plain": [
       "[((1, 1, 1, -1, 1, -1, -1, 1), 0.6389936314762205, -7.464823044441264),\n",
       " ((1, 1, 1, -1, 1, -1, -1, -1), 0.183558310271359, -7.340086834063936),\n",
       " ((-1, 1, 1, -1, -1, -1, -1, -1), 0.17668556498410257, -7.3362707640240785),\n",
       " ((1, -1, 1, -1, 1, -1, -1, 1), 0.0007594423178072515, -6.791316504905762),\n",
       " ((1, 1, 1, 1, 1, -1, -1, 1), 1.2655456975753578e-06, -6.1516084088137255),\n",
       " ((-1, 1, 1, -1, 1, -1, -1, -1), 8.684341612608302e-07, -6.1139517173904885),\n",
       " ((1, 1, 1, -1, -1, -1, -1, 1), 7.068374268688657e-07, -6.093362609011422),\n",
       " ((1, 1, 1, -1, -1, -1, -1, -1), 2.0304722507618733e-07, -5.968626398634093),\n",
       " ((1, 1, 1, 1, 1, -1, -1, -1), 4.6962498309117566e-09, -5.591958968041247),\n",
       " ((1, -1, 1, 1, 1, -1, -1, 1), 1.504097866573773e-09, -5.478101869278223),\n",
       " ((-1, 1, 1, -1, -1, 1, -1, -1), 5.514118883607267e-10, -5.377755217820702),\n",
       " ((1, -1, 1, -1, -1, -1, -1, 1), 3.267380027967145e-10, -5.325422875459351),\n",
       " ((1, 1, 1, 1, 1, -1, 1, 1), 4.667535313837454e-12, -4.9005701281834195),\n",
       " ((-1, -1, 1, -1, -1, 1, -1, -1), 2.5117222661476094e-12, -4.838603879918335),\n",
       " ((1, -1, 1, -1, 1, -1, -1, -1), 1.5656824595268156e-13, -4.56108068318486),\n",
       " ((-1, -1, 1, -1, -1, -1, -1, -1), 5.861551078584601e-14, -4.462831419128433),\n",
       " ((1, 1, -1, 1, 1, -1, 1, 1), 5.6390961403945065e-14, -4.458962372741301),\n",
       " ((-1, 1, 1, 1, 1, -1, -1, -1), 2.2218464404852922e-14, -4.365823851367798),\n",
       " ((1, 1, 1, 1, 1, -1, 1, -1), 1.7320521866875307e-14, -4.340920687410941),\n",
       " ((1, 1, -1, -1, -1, -1, -1, 1), 8.131456908238124e-15, -4.265305494955745)]"
      ]
     },
     "execution_count": 32,
     "metadata": {},
     "output_type": "execute_result"
    }
   ],
   "source": [
    "inv_temp = 10\n",
    "all_hist = [(spins, math.exp(-energy(spins) * inv_temp), energy(spins)) for spins in product([-1, 1], repeat=8)]\n",
    "p_sum = sum(p for _, p, _ in all_hist)\n",
    "all_normed_hist = [(spins, p / p_sum, energy) for spins, p, energy in all_hist]\n",
    "sorted(all_normed_hist, key=lambda x: x[2])[:20]"
   ]
  },
  {
   "cell_type": "code",
   "execution_count": 34,
   "metadata": {},
   "outputs": [
    {
     "name": "stdout",
     "output_type": "stream",
     "text": [
      "dwave-cloud-client     0.4.16    \n",
      "dwave-neal             0.4.2     \n",
      "dwave-networkx         0.6.6     \n",
      "dwave-ocean-sdk        1.0.3     \n",
      "dwave-qbsolv           0.2.9     \n",
      "dwave-system           0.5.4     \n",
      "dwavebinarycsp         0.0.9     \n"
     ]
    }
   ],
   "source": [
    "!pip list | grep dwave"
   ]
  }
 ],
 "metadata": {
  "kernelspec": {
   "display_name": "Python 3",
   "language": "python",
   "name": "python3"
  },
  "language_info": {
   "codemirror_mode": {
    "name": "ipython",
    "version": 3
   },
   "file_extension": ".py",
   "mimetype": "text/x-python",
   "name": "python",
   "nbconvert_exporter": "python",
   "pygments_lexer": "ipython3",
   "version": "3.7.0"
  }
 },
 "nbformat": 4,
 "nbformat_minor": 2
}
